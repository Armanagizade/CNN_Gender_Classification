{
 "cells": [
  {
   "cell_type": "code",
   "execution_count": 1,
   "id": "2ec66cd2-f591-4081-ab12-3a523de3630b",
   "metadata": {},
   "outputs": [],
   "source": [
    "import numpy as np\n",
    "import pandas as pd\n",
    "import seaborn as sns\n",
    "import tensorflow as tf\n",
    "\n",
    "import os\n",
    "import cv2\n",
    "\n",
    "import matplotlib.pyplot as plt"
   ]
  },
  {
   "cell_type": "code",
   "execution_count": 2,
   "id": "aeb3c597-c25e-413f-a945-d1fd325d34c9",
   "metadata": {},
   "outputs": [],
   "source": [
    "def extract_label(img_path):\n",
    "    filename = os.path.splitext(os.path.basename(img_path))[0]\n",
    "\n",
    "    info = filename.split('__')[1]\n",
    "  \n",
    "    gender = info.split('_')[0]\n",
    "  \n",
    "    gender = 0 if gender == 'M' else 1\n",
    "\n",
    "    return np.array([gender], dtype=np.uint16)"
   ]
  },
  {
   "cell_type": "code",
   "execution_count": 3,
   "id": "70379776-6ed5-410d-9f94-d99f9e68fa95",
   "metadata": {},
   "outputs": [],
   "source": [
    "img_size = 96\n",
    "\n",
    "def loading_data(path):\n",
    "    print(\"loading data from: \",path)\n",
    "    data = []\n",
    "    for img in os.listdir(path):\n",
    "        try:\n",
    "            img_array = cv2.imread(os.path.join(path, img), cv2.IMREAD_GRAYSCALE)\n",
    "            img_resize = cv2.resize(img_array, (img_size, img_size))\n",
    "            label = extract_label(os.path.join(path, img))\n",
    "            data.append([label[0], img_resize ])\n",
    "        except Exception as e:\n",
    "            pass\n",
    "    data\n",
    "    return data"
   ]
  },
  {
   "cell_type": "code",
   "execution_count": 4,
   "id": "ce437681-0ba6-4c2f-b281-37b905a107b5",
   "metadata": {},
   "outputs": [
    {
     "name": "stdout",
     "output_type": "stream",
     "text": [
      "loading data from:  ../data/SOCOFing/Altered-Easy\n",
      "loading data from:  ../data/SOCOFing/Altered-Medium\n",
      "loading data from:  ../data/SOCOFing/Altered-Hard\n",
      "loading data from:  ../data/SOCOFing/Real\n"
     ]
    },
    {
     "name": "stderr",
     "output_type": "stream",
     "text": [
      "<__array_function__ internals>:180: VisibleDeprecationWarning: Creating an ndarray from ragged nested sequences (which is a list-or-tuple of lists-or-tuples-or ndarrays with different lengths or shapes) is deprecated. If you meant to do this, you must specify 'dtype=object' when creating the ndarray.\n"
     ]
    }
   ],
   "source": [
    "Real_path = \"../data/SOCOFing/Real\"\n",
    "Easy_path = \"../data/SOCOFing/Altered-Easy\"\n",
    "Medium_path = \"../data/SOCOFing/Altered-Medium\"\n",
    "Hard_path = \"../data/SOCOFing/Altered-Hard\"\n",
    "\n",
    "\n",
    "Easy_data = loading_data(Easy_path)\n",
    "Medium_data = loading_data(Medium_path)\n",
    "Hard_data = loading_data(Hard_path)\n",
    "test = loading_data(Real_path)\n",
    "\n",
    "data = np.concatenate([Easy_data, Medium_data, Hard_data], axis=0)\n",
    "\n",
    "del Easy_data, Medium_data, Hard_data"
   ]
  },
  {
   "cell_type": "code",
   "execution_count": 5,
   "id": "6ef078ed-192d-4775-894c-8f8be6bbabf6",
   "metadata": {},
   "outputs": [
    {
     "data": {
      "text/plain": [
       "(49270, 2)"
      ]
     },
     "execution_count": 5,
     "metadata": {},
     "output_type": "execute_result"
    }
   ],
   "source": [
    "data.shape"
   ]
  },
  {
   "cell_type": "code",
   "execution_count": 6,
   "id": "08ee18ef-ed8c-4043-98f4-43399c9b519b",
   "metadata": {},
   "outputs": [
    {
     "data": {
      "text/plain": [
       "array([0, array([[160, 158, 158, ...,   0,   0,   0],\n",
       "                 [160, 105, 121, ...,   0,   0,   0],\n",
       "                 [160, 105, 255, ...,   0,   0,   0],\n",
       "                 ...,\n",
       "                 [  0,   0,   0, ...,   0,   0,   0],\n",
       "                 [  0,   0,   0, ...,   0,   0,   0],\n",
       "                 [  0,   0,   0, ...,   0,   0,   0]], dtype=uint8)],\n",
       "      dtype=object)"
      ]
     },
     "execution_count": 6,
     "metadata": {},
     "output_type": "execute_result"
    }
   ],
   "source": [
    "data[120]"
   ]
  },
  {
   "cell_type": "code",
   "execution_count": 7,
   "id": "e171b694-eeea-45b3-9946-c0ec1eda57d2",
   "metadata": {},
   "outputs": [
    {
     "name": "stdout",
     "output_type": "stream",
     "text": [
      "(49270, 96, 96)\n"
     ]
    }
   ],
   "source": [
    "img, labels = [], []\n",
    "for label, feature in data:\n",
    "    labels.append(label)\n",
    "    img.append(feature)\n",
    "print(np.shape(img))\n",
    "train_data = np.array(img) / 255.0\n",
    "train_labels = np.zeros((len(labels),2))\n",
    "for i in range(len(labels)):\n",
    "    if labels[i]==1:\n",
    "        train_labels[i,0] = 1\n",
    "    else:\n",
    "        train_labels[i,1] = 1\n"
   ]
  },
  {
   "cell_type": "code",
   "execution_count": 8,
   "id": "53a3b0c3-7d73-45d0-8e06-0988dd6a9107",
   "metadata": {},
   "outputs": [
    {
     "data": {
      "text/plain": [
       "(49270, 96, 96)"
      ]
     },
     "execution_count": 8,
     "metadata": {},
     "output_type": "execute_result"
    }
   ],
   "source": [
    "train_data.shape"
   ]
  },
  {
   "cell_type": "code",
   "execution_count": 43,
   "id": "915e9160-fa09-42af-ba73-3f74958e37f8",
   "metadata": {},
   "outputs": [],
   "source": [
    "from tensorflow.keras import Sequential \n",
    "from tensorflow.keras.layers import Conv2D, MaxPooling2D, Dense, Flatten\n",
    "from tensorflow.keras import layers\n",
    "from tensorflow.keras import optimizers\n",
    "\n",
    "model = Sequential([\n",
    "                    tf.keras.Input(shape=([96, 96, 1])),\n",
    "                    Conv2D(32, 3, padding='same', activation='relu',kernel_initializer='he_uniform'),\n",
    "                    MaxPooling2D(2),\n",
    "                    Flatten(),\n",
    "                    Dense(128, kernel_initializer='he_uniform',activation = 'relu'),\n",
    "                    Dense(2, activation = 'sigmoid'),\n",
    "                    ])"
   ]
  },
  {
   "cell_type": "code",
   "execution_count": 44,
   "id": "288a2fc0-2e32-44b5-a10b-9fe75b7ad516",
   "metadata": {},
   "outputs": [
    {
     "data": {
      "text/html": [
       "<pre style=\"white-space:pre;overflow-x:auto;line-height:normal;font-family:Menlo,'DejaVu Sans Mono',consolas,'Courier New',monospace\"><span style=\"font-weight: bold\">Model: \"sequential_4\"</span>\n",
       "</pre>\n"
      ],
      "text/plain": [
       "\u001b[1mModel: \"sequential_4\"\u001b[0m\n"
      ]
     },
     "metadata": {},
     "output_type": "display_data"
    },
    {
     "data": {
      "text/html": [
       "<pre style=\"white-space:pre;overflow-x:auto;line-height:normal;font-family:Menlo,'DejaVu Sans Mono',consolas,'Courier New',monospace\">┏━━━━━━━━━━━━━━━━━━━━━━━━━━━━━━━━━━━━━━┳━━━━━━━━━━━━━━━━━━━━━━━━━━━━━┳━━━━━━━━━━━━━━━━━┓\n",
       "┃<span style=\"font-weight: bold\"> Layer (type)                         </span>┃<span style=\"font-weight: bold\"> Output Shape                </span>┃<span style=\"font-weight: bold\">         Param # </span>┃\n",
       "┡━━━━━━━━━━━━━━━━━━━━━━━━━━━━━━━━━━━━━━╇━━━━━━━━━━━━━━━━━━━━━━━━━━━━━╇━━━━━━━━━━━━━━━━━┩\n",
       "│ conv2d_5 (<span style=\"color: #0087ff; text-decoration-color: #0087ff\">Conv2D</span>)                    │ (<span style=\"color: #00d7ff; text-decoration-color: #00d7ff\">None</span>, <span style=\"color: #00af00; text-decoration-color: #00af00\">96</span>, <span style=\"color: #00af00; text-decoration-color: #00af00\">96</span>, <span style=\"color: #00af00; text-decoration-color: #00af00\">32</span>)          │             <span style=\"color: #00af00; text-decoration-color: #00af00\">320</span> │\n",
       "├──────────────────────────────────────┼─────────────────────────────┼─────────────────┤\n",
       "│ max_pooling2d_6 (<span style=\"color: #0087ff; text-decoration-color: #0087ff\">MaxPooling2D</span>)       │ (<span style=\"color: #00d7ff; text-decoration-color: #00d7ff\">None</span>, <span style=\"color: #00af00; text-decoration-color: #00af00\">48</span>, <span style=\"color: #00af00; text-decoration-color: #00af00\">48</span>, <span style=\"color: #00af00; text-decoration-color: #00af00\">32</span>)          │               <span style=\"color: #00af00; text-decoration-color: #00af00\">0</span> │\n",
       "├──────────────────────────────────────┼─────────────────────────────┼─────────────────┤\n",
       "│ flatten_4 (<span style=\"color: #0087ff; text-decoration-color: #0087ff\">Flatten</span>)                  │ (<span style=\"color: #00d7ff; text-decoration-color: #00d7ff\">None</span>, <span style=\"color: #00af00; text-decoration-color: #00af00\">73728</span>)               │               <span style=\"color: #00af00; text-decoration-color: #00af00\">0</span> │\n",
       "├──────────────────────────────────────┼─────────────────────────────┼─────────────────┤\n",
       "│ dense_8 (<span style=\"color: #0087ff; text-decoration-color: #0087ff\">Dense</span>)                      │ (<span style=\"color: #00d7ff; text-decoration-color: #00d7ff\">None</span>, <span style=\"color: #00af00; text-decoration-color: #00af00\">128</span>)                 │       <span style=\"color: #00af00; text-decoration-color: #00af00\">9,437,312</span> │\n",
       "├──────────────────────────────────────┼─────────────────────────────┼─────────────────┤\n",
       "│ dense_9 (<span style=\"color: #0087ff; text-decoration-color: #0087ff\">Dense</span>)                      │ (<span style=\"color: #00d7ff; text-decoration-color: #00d7ff\">None</span>, <span style=\"color: #00af00; text-decoration-color: #00af00\">2</span>)                   │             <span style=\"color: #00af00; text-decoration-color: #00af00\">258</span> │\n",
       "└──────────────────────────────────────┴─────────────────────────────┴─────────────────┘\n",
       "</pre>\n"
      ],
      "text/plain": [
       "┏━━━━━━━━━━━━━━━━━━━━━━━━━━━━━━━━━━━━━━┳━━━━━━━━━━━━━━━━━━━━━━━━━━━━━┳━━━━━━━━━━━━━━━━━┓\n",
       "┃\u001b[1m \u001b[0m\u001b[1mLayer (type)                        \u001b[0m\u001b[1m \u001b[0m┃\u001b[1m \u001b[0m\u001b[1mOutput Shape               \u001b[0m\u001b[1m \u001b[0m┃\u001b[1m \u001b[0m\u001b[1m        Param #\u001b[0m\u001b[1m \u001b[0m┃\n",
       "┡━━━━━━━━━━━━━━━━━━━━━━━━━━━━━━━━━━━━━━╇━━━━━━━━━━━━━━━━━━━━━━━━━━━━━╇━━━━━━━━━━━━━━━━━┩\n",
       "│ conv2d_5 (\u001b[38;5;33mConv2D\u001b[0m)                    │ (\u001b[38;5;45mNone\u001b[0m, \u001b[38;5;34m96\u001b[0m, \u001b[38;5;34m96\u001b[0m, \u001b[38;5;34m32\u001b[0m)          │             \u001b[38;5;34m320\u001b[0m │\n",
       "├──────────────────────────────────────┼─────────────────────────────┼─────────────────┤\n",
       "│ max_pooling2d_6 (\u001b[38;5;33mMaxPooling2D\u001b[0m)       │ (\u001b[38;5;45mNone\u001b[0m, \u001b[38;5;34m48\u001b[0m, \u001b[38;5;34m48\u001b[0m, \u001b[38;5;34m32\u001b[0m)          │               \u001b[38;5;34m0\u001b[0m │\n",
       "├──────────────────────────────────────┼─────────────────────────────┼─────────────────┤\n",
       "│ flatten_4 (\u001b[38;5;33mFlatten\u001b[0m)                  │ (\u001b[38;5;45mNone\u001b[0m, \u001b[38;5;34m73728\u001b[0m)               │               \u001b[38;5;34m0\u001b[0m │\n",
       "├──────────────────────────────────────┼─────────────────────────────┼─────────────────┤\n",
       "│ dense_8 (\u001b[38;5;33mDense\u001b[0m)                      │ (\u001b[38;5;45mNone\u001b[0m, \u001b[38;5;34m128\u001b[0m)                 │       \u001b[38;5;34m9,437,312\u001b[0m │\n",
       "├──────────────────────────────────────┼─────────────────────────────┼─────────────────┤\n",
       "│ dense_9 (\u001b[38;5;33mDense\u001b[0m)                      │ (\u001b[38;5;45mNone\u001b[0m, \u001b[38;5;34m2\u001b[0m)                   │             \u001b[38;5;34m258\u001b[0m │\n",
       "└──────────────────────────────────────┴─────────────────────────────┴─────────────────┘\n"
      ]
     },
     "metadata": {},
     "output_type": "display_data"
    },
    {
     "data": {
      "text/html": [
       "<pre style=\"white-space:pre;overflow-x:auto;line-height:normal;font-family:Menlo,'DejaVu Sans Mono',consolas,'Courier New',monospace\"><span style=\"font-weight: bold\"> Total params: </span><span style=\"color: #00af00; text-decoration-color: #00af00\">9,437,890</span> (36.00 MB)\n",
       "</pre>\n"
      ],
      "text/plain": [
       "\u001b[1m Total params: \u001b[0m\u001b[38;5;34m9,437,890\u001b[0m (36.00 MB)\n"
      ]
     },
     "metadata": {},
     "output_type": "display_data"
    },
    {
     "data": {
      "text/html": [
       "<pre style=\"white-space:pre;overflow-x:auto;line-height:normal;font-family:Menlo,'DejaVu Sans Mono',consolas,'Courier New',monospace\"><span style=\"font-weight: bold\"> Trainable params: </span><span style=\"color: #00af00; text-decoration-color: #00af00\">9,437,890</span> (36.00 MB)\n",
       "</pre>\n"
      ],
      "text/plain": [
       "\u001b[1m Trainable params: \u001b[0m\u001b[38;5;34m9,437,890\u001b[0m (36.00 MB)\n"
      ]
     },
     "metadata": {},
     "output_type": "display_data"
    },
    {
     "data": {
      "text/html": [
       "<pre style=\"white-space:pre;overflow-x:auto;line-height:normal;font-family:Menlo,'DejaVu Sans Mono',consolas,'Courier New',monospace\"><span style=\"font-weight: bold\"> Non-trainable params: </span><span style=\"color: #00af00; text-decoration-color: #00af00\">0</span> (0.00 B)\n",
       "</pre>\n"
      ],
      "text/plain": [
       "\u001b[1m Non-trainable params: \u001b[0m\u001b[38;5;34m0\u001b[0m (0.00 B)\n"
      ]
     },
     "metadata": {},
     "output_type": "display_data"
    }
   ],
   "source": [
    "model.summary()"
   ]
  },
  {
   "cell_type": "code",
   "execution_count": 45,
   "id": "a7b6c63d-fbe5-48b8-a3af-95a6105b14b9",
   "metadata": {},
   "outputs": [],
   "source": [
    "model.compile(optimizer = optimizers.Adam(1e-3), loss = 'categorical_crossentropy', metrics = ['accuracy'])\n"
   ]
  },
  {
   "cell_type": "code",
   "execution_count": 46,
   "id": "dccacad0-7c80-413c-9e40-708fa0151213",
   "metadata": {},
   "outputs": [
    {
     "name": "stdout",
     "output_type": "stream",
     "text": [
      "Epoch 1/15\n",
      "\u001b[1m308/308\u001b[0m \u001b[32m━━━━━━━━━━━━━━━━━━━━\u001b[0m\u001b[37m\u001b[0m \u001b[1m56s\u001b[0m 176ms/step - accuracy: 0.7371 - loss: 4.5074 - val_accuracy: 0.8142 - val_loss: 0.4041\n",
      "Epoch 2/15\n",
      "\u001b[1m308/308\u001b[0m \u001b[32m━━━━━━━━━━━━━━━━━━━━\u001b[0m\u001b[37m\u001b[0m \u001b[1m53s\u001b[0m 171ms/step - accuracy: 0.7934 - loss: 0.4285 - val_accuracy: 0.8142 - val_loss: 0.5164\n",
      "Epoch 3/15\n",
      "\u001b[1m308/308\u001b[0m \u001b[32m━━━━━━━━━━━━━━━━━━━━\u001b[0m\u001b[37m\u001b[0m \u001b[1m52s\u001b[0m 170ms/step - accuracy: 0.7971 - loss: 0.3820 - val_accuracy: 0.8694 - val_loss: 0.3502\n",
      "Epoch 4/15\n",
      "\u001b[1m308/308\u001b[0m \u001b[32m━━━━━━━━━━━━━━━━━━━━\u001b[0m\u001b[37m\u001b[0m \u001b[1m52s\u001b[0m 170ms/step - accuracy: 0.8859 - loss: 0.2740 - val_accuracy: 0.8794 - val_loss: 0.3268\n",
      "Epoch 5/15\n",
      "\u001b[1m308/308\u001b[0m \u001b[32m━━━━━━━━━━━━━━━━━━━━\u001b[0m\u001b[37m\u001b[0m \u001b[1m52s\u001b[0m 169ms/step - accuracy: 0.9056 - loss: 0.2405 - val_accuracy: 0.8949 - val_loss: 0.2801\n",
      "Epoch 6/15\n",
      "\u001b[1m308/308\u001b[0m \u001b[32m━━━━━━━━━━━━━━━━━━━━\u001b[0m\u001b[37m\u001b[0m \u001b[1m52s\u001b[0m 170ms/step - accuracy: 0.9445 - loss: 0.1723 - val_accuracy: 0.9489 - val_loss: 0.1574\n",
      "Epoch 7/15\n",
      "\u001b[1m308/308\u001b[0m \u001b[32m━━━━━━━━━━━━━━━━━━━━\u001b[0m\u001b[37m\u001b[0m \u001b[1m53s\u001b[0m 173ms/step - accuracy: 0.9633 - loss: 0.1338 - val_accuracy: 0.9597 - val_loss: 0.1316\n",
      "Epoch 8/15\n",
      "\u001b[1m308/308\u001b[0m \u001b[32m━━━━━━━━━━━━━━━━━━━━\u001b[0m\u001b[37m\u001b[0m \u001b[1m56s\u001b[0m 182ms/step - accuracy: 0.9732 - loss: 0.1464 - val_accuracy: 0.9708 - val_loss: 0.1101\n",
      "Epoch 9/15\n",
      "\u001b[1m308/308\u001b[0m \u001b[32m━━━━━━━━━━━━━━━━━━━━\u001b[0m\u001b[37m\u001b[0m \u001b[1m56s\u001b[0m 183ms/step - accuracy: 0.9768 - loss: 0.0919 - val_accuracy: 0.9600 - val_loss: 0.1131\n",
      "Epoch 10/15\n",
      "\u001b[1m308/308\u001b[0m \u001b[32m━━━━━━━━━━━━━━━━━━━━\u001b[0m\u001b[37m\u001b[0m \u001b[1m55s\u001b[0m 179ms/step - accuracy: 0.9905 - loss: 0.0602 - val_accuracy: 0.9190 - val_loss: 0.1918\n",
      "Epoch 11/15\n",
      "\u001b[1m308/308\u001b[0m \u001b[32m━━━━━━━━━━━━━━━━━━━━\u001b[0m\u001b[37m\u001b[0m \u001b[1m53s\u001b[0m 171ms/step - accuracy: 0.9914 - loss: 0.0515 - val_accuracy: 0.9611 - val_loss: 0.1058\n",
      "Epoch 12/15\n",
      "\u001b[1m308/308\u001b[0m \u001b[32m━━━━━━━━━━━━━━━━━━━━\u001b[0m\u001b[37m\u001b[0m \u001b[1m57s\u001b[0m 186ms/step - accuracy: 0.9970 - loss: 0.0338 - val_accuracy: 0.9770 - val_loss: 0.0806\n",
      "Epoch 13/15\n",
      "\u001b[1m308/308\u001b[0m \u001b[32m━━━━━━━━━━━━━━━━━━━━\u001b[0m\u001b[37m\u001b[0m \u001b[1m54s\u001b[0m 176ms/step - accuracy: 0.9966 - loss: 0.0314 - val_accuracy: 0.9821 - val_loss: 0.0635\n",
      "Epoch 14/15\n",
      "\u001b[1m308/308\u001b[0m \u001b[32m━━━━━━━━━━━━━━━━━━━━\u001b[0m\u001b[37m\u001b[0m \u001b[1m52s\u001b[0m 169ms/step - accuracy: 0.9981 - loss: 0.0239 - val_accuracy: 0.9804 - val_loss: 0.0630\n",
      "Epoch 15/15\n",
      "\u001b[1m308/308\u001b[0m \u001b[32m━━━━━━━━━━━━━━━━━━━━\u001b[0m\u001b[37m\u001b[0m \u001b[1m52s\u001b[0m 169ms/step - accuracy: 0.9990 - loss: 0.0175 - val_accuracy: 0.9825 - val_loss: 0.0591\n"
     ]
    }
   ],
   "source": [
    "istory = model.fit(train_data, train_labels, batch_size = 128, epochs = 15, \n",
    "          validation_split = 0.2, verbose = 1)"
   ]
  },
  {
   "cell_type": "code",
   "execution_count": 47,
   "id": "9d8770d2-d765-4f1e-849b-b15cefe4d41a",
   "metadata": {},
   "outputs": [],
   "source": [
    "his = pd.DataFrame(istory.history)\n",
    "loss_array = np.array(his['loss'])\n",
    "val_loss_array = np.array(his['val_loss'])\n"
   ]
  },
  {
   "cell_type": "code",
   "execution_count": 48,
   "id": "ccef85e0-8730-47f3-8c76-9510401a8083",
   "metadata": {},
   "outputs": [
    {
     "data": {
      "text/plain": [
       "<matplotlib.legend.Legend at 0x2cb5e602a30>"
      ]
     },
     "execution_count": 48,
     "metadata": {},
     "output_type": "execute_result"
    },
    {
     "data": {
      "image/png": "[encoded data removed]",
      "text/plain": [
       "<Figure size 1500x500 with 1 Axes>"
      ]
     },
     "metadata": {},
     "output_type": "display_data"
    }
   ],
   "source": [
    "fig,axs = plt.subplots(1,1,figsize=(15,5))\n",
    "axs.plot(np.arange(15),loss_array,label = 'loss')\n",
    "axs.plot(np.arange(15),val_loss_array,label = 'val_loss')\n",
    "axs.legend(loc=1)"
   ]
  },
  {
   "cell_type": "code",
   "execution_count": 49,
   "id": "fd456724-2ce4-463c-9383-3e1da0924475",
   "metadata": {},
   "outputs": [],
   "source": [
    "test_images, test_label = [], []\n",
    "\n",
    "for label, feature in test:\n",
    "    test_images.append(feature)\n",
    "    test_label.append(label)\n",
    "    \n",
    "test_images = np.array(test_images) / 255.0\n",
    "\n",
    "test_labels = np.zeros((len(test_label),2))\n",
    "for i in range(len(test_label)):\n",
    "    if test_label[i]==1:\n",
    "        test_labels[i,0] = 1\n",
    "    else:\n",
    "        test_labels[i,1] = 1"
   ]
  },
  {
   "cell_type": "code",
   "execution_count": 50,
   "id": "b0e2e371-2873-48d6-8aa1-dae012f36c3f",
   "metadata": {},
   "outputs": [
    {
     "name": "stdout",
     "output_type": "stream",
     "text": [
      "\u001b[1m188/188\u001b[0m \u001b[32m━━━━━━━━━━━━━━━━━━━━\u001b[0m\u001b[37m\u001b[0m \u001b[1m2s\u001b[0m 13ms/step - accuracy: 0.9995 - loss: 0.0139\n"
     ]
    },
    {
     "data": {
      "text/plain": [
       "[0.015320447273552418, 0.9988333582878113]"
      ]
     },
     "execution_count": 50,
     "metadata": {},
     "output_type": "execute_result"
    }
   ],
   "source": [
    "model.evaluate(test_images, test_labels)"
   ]
  },
  {
   "cell_type": "code",
   "execution_count": 51,
   "id": "d9a723e2-c06d-47c4-a1a3-53e3a7596897",
   "metadata": {},
   "outputs": [
    {
     "name": "stdout",
     "output_type": "stream",
     "text": [
      "\u001b[1m1/1\u001b[0m \u001b[32m━━━━━━━━━━━━━━━━━━━━\u001b[0m\u001b[37m\u001b[0m \u001b[1m0s\u001b[0m 59ms/step\n"
     ]
    },
    {
     "data": {
      "text/plain": [
       "array([[0.8125702 , 0.18742979],\n",
       "       [0.8125702 , 0.18742979],\n",
       "       [0.8125702 , 0.18742979],\n",
       "       [0.8125702 , 0.18742979],\n",
       "       [0.8125702 , 0.18742979],\n",
       "       [0.8125702 , 0.18742979],\n",
       "       [0.8125702 , 0.18742979],\n",
       "       [0.8125702 , 0.18742979],\n",
       "       [0.8125702 , 0.18742979],\n",
       "       [0.8125702 , 0.18742979]], dtype=float32)"
      ]
     },
     "execution_count": 51,
     "metadata": {},
     "output_type": "execute_result"
    }
   ],
   "source": [
    "model.predict(test_images[150:160])"
   ]
  },
  {
   "cell_type": "code",
   "execution_count": 52,
   "id": "d6aafadb-8f94-43c8-8b4b-d7a89bf01177",
   "metadata": {},
   "outputs": [
    {
     "data": {
      "text/plain": [
       "array([[1., 0.],\n",
       "       [1., 0.],\n",
       "       [1., 0.],\n",
       "       [1., 0.],\n",
       "       [1., 0.],\n",
       "       [1., 0.],\n",
       "       [1., 0.],\n",
       "       [1., 0.],\n",
       "       [1., 0.],\n",
       "       [1., 0.]])"
      ]
     },
     "execution_count": 52,
     "metadata": {},
     "output_type": "execute_result"
    }
   ],
   "source": [
    "test_labels[150:160]"
   ]
  },
  {
   "cell_type": "code",
   "execution_count": null,
   "id": "48c7d2b1-6c0f-4f67-8ed6-72cc91e73497",
   "metadata": {},
   "outputs": [],
   "source": []
  },
  {
   "cell_type": "code",
   "execution_count": null,
   "id": "61ee9411-bc21-44d8-8d3e-84f96aa0acec",
   "metadata": {},
   "outputs": [],
   "source": []
  }
 ],
 "metadata": {
  "kernelspec": {
   "display_name": "Python 3 (ipykernel)",
   "language": "python",
   "name": "python3"
  },
  "language_info": {
   "codemirror_mode": {
    "name": "ipython",
    "version": 3
   },
   "file_extension": ".py",
   "mimetype": "text/x-python",
   "name": "python",
   "nbconvert_exporter": "python",
   "pygments_lexer": "ipython3",
   "version": "3.9.18"
  }
 },
 "nbformat": 4,
 "nbformat_minor": 5
}
